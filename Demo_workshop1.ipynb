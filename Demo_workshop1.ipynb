{
 "cells": [
  {
   "cell_type": "markdown",
   "metadata": {
    "application/vnd.databricks.v1+cell": {
     "cellMetadata": {},
     "inputWidgets": {},
     "nuid": "752cbd4f-8756-47be-8bd7-9809feb805a2",
     "showTitle": false,
     "title": ""
    }
   },
   "source": [
    "# Demo Scenario 1"
   ]
  },
  {
   "cell_type": "markdown",
   "metadata": {
    "application/vnd.databricks.v1+cell": {
     "cellMetadata": {},
     "inputWidgets": {},
     "nuid": "9e596079-f6c7-4ca5-838c-d16a98ad0d0e",
     "showTitle": false,
     "title": ""
    }
   },
   "source": [
    "### UI를 통해 File Upload 하여 테이블 생성하기\n",
    "UI를 사용하여 로컬 시스템에서 작은 CSV 또는 TSV 파일을 가져와 Table을 생성할 수 있습니다.  \n",
    "이 때 한번에 최대 10개의 파일 업로드를 지원하고, 총 크기가 100MB 미만이어야 가능합니다.  \n",
    "방법은 총 3가지가 있습니다.\n",
    "- New > File Upload\n",
    "- New > Data > Upload data\n",
    "- Data > Add > Add Data > Upload data"
   ]
  },
  {
   "cell_type": "markdown",
   "metadata": {
    "application/vnd.databricks.v1+cell": {
     "cellMetadata": {},
     "inputWidgets": {},
     "nuid": "e3da9472-1b8b-47a5-a806-90a8993563ac",
     "showTitle": false,
     "title": ""
    }
   },
   "source": [
    "**`New > File Upload`** 를 클릭합니다.  \n",
    "파일 브라우저 버튼을 클릭하거나 드롭 영역에 직접 파일을 끌어다 놓습니다.  \n",
    "테이블을 미리 보고 구성할 수 있습니다."
   ]
  },
  {
   "cell_type": "markdown",
   "metadata": {
    "application/vnd.databricks.v1+cell": {
     "cellMetadata": {},
     "inputWidgets": {},
     "nuid": "dfc765f3-3ac8-46ab-aeee-3bda9c5910dc",
     "showTitle": false,
     "title": ""
    }
   },
   "source": [
    "생성된 테이블을 **`Data > Data Explorer`** 에서 확인해보겠습니다."
   ]
  },
  {
   "cell_type": "markdown",
   "metadata": {
    "application/vnd.databricks.v1+cell": {
     "cellMetadata": {},
     "inputWidgets": {},
     "nuid": "e36fe034-4af1-4d3e-9bef-801e50847336",
     "showTitle": false,
     "title": ""
    }
   },
   "source": [
    "File Upload로 생성한 테이블을 확인해보겠습니다."
   ]
  },
  {
   "cell_type": "code",
   "execution_count": 0,
   "metadata": {
    "application/vnd.databricks.v1+cell": {
     "cellMetadata": {
      "byteLimit": 2048000,
      "implicitDf": true,
      "rowLimit": 10000
     },
     "inputWidgets": {},
     "nuid": "1d28d4f1-0d5b-42eb-ac8f-7750521c37b4",
     "showTitle": false,
     "title": ""
    }
   },
   "outputs": [
    {
     "output_type": "display_data",
     "data": {
      "text/html": [
       "<style scoped>\n  .table-result-container {\n    max-height: 300px;\n    overflow: auto;\n  }\n  table, th, td {\n    border: 1px solid black;\n    border-collapse: collapse;\n  }\n  th, td {\n    padding: 5px;\n  }\n  th {\n    text-align: left;\n  }\n</style><div class='table-result-container'><table class='table-result'><thead style='background-color: white'><tr><th>EmpId</th><th>EmpName</th><th>Job</th><th>HireDate</th><th>DeptId</th><th>Comm</th></tr></thead><tbody><tr><td>admin1</td><td>Adams</td><td>Manager</td><td>2015-03-02</td><td>20</td><td>0</td></tr><tr><td>admin2</td><td>Scott</td><td>Manager</td><td>2015-07-01</td><td>20</td><td>0</td></tr><tr><td>admin3</td><td>Smith</td><td>Salesman</td><td>2015-03-02</td><td>30</td><td>0</td></tr><tr><td>admin4</td><td>Allen</td><td>Salesman</td><td>2015-07-01</td><td>30</td><td>0</td></tr><tr><td>admin5</td><td>James</td><td>Analyst</td><td>2016-03-02</td><td>10</td><td>0</td></tr><tr><td>admin6</td><td>Blake</td><td>Analyst</td><td>2016-03-02</td><td>10</td><td>0</td></tr><tr><td>admin7</td><td>Martin</td><td>Salesman</td><td>2018-03-02</td><td>30</td><td>0</td></tr><tr><td>admin8</td><td>Miller</td><td>Analyst</td><td>2018-03-02</td><td>10</td><td>0</td></tr><tr><td>admin9</td><td>Jones</td><td>Manager</td><td>2015-03-02</td><td>20</td><td>0</td></tr><tr><td>admin0</td><td>Helen</td><td>Analyst</td><td>2015-07-01</td><td>10</td><td>0</td></tr></tbody></table></div>"
      ]
     },
     "metadata": {
      "application/vnd.databricks.v1+output": {
       "addedWidgets": {},
       "aggData": [],
       "aggError": "",
       "aggOverflow": false,
       "aggSchema": [],
       "aggSeriesLimitReached": false,
       "aggType": "",
       "arguments": {},
       "columnCustomDisplayInfos": {},
       "data": [
        [
         "admin1",
         "Adams",
         "Manager",
         "2015-03-02",
         20,
         0
        ],
        [
         "admin2",
         "Scott",
         "Manager",
         "2015-07-01",
         20,
         0
        ],
        [
         "admin3",
         "Smith",
         "Salesman",
         "2015-03-02",
         30,
         0
        ],
        [
         "admin4",
         "Allen",
         "Salesman",
         "2015-07-01",
         30,
         0
        ],
        [
         "admin5",
         "James",
         "Analyst",
         "2016-03-02",
         10,
         0
        ],
        [
         "admin6",
         "Blake",
         "Analyst",
         "2016-03-02",
         10,
         0
        ],
        [
         "admin7",
         "Martin",
         "Salesman",
         "2018-03-02",
         30,
         0
        ],
        [
         "admin8",
         "Miller",
         "Analyst",
         "2018-03-02",
         10,
         0
        ],
        [
         "admin9",
         "Jones",
         "Manager",
         "2015-03-02",
         20,
         0
        ],
        [
         "admin0",
         "Helen",
         "Analyst",
         "2015-07-01",
         10,
         0
        ]
       ],
       "datasetInfos": [],
       "dbfsResultPath": null,
       "isJsonSchema": true,
       "metadata": {},
       "overflow": false,
       "plotOptions": {
        "customPlotOptions": {},
        "displayType": "table",
        "pivotAggregation": null,
        "pivotColumns": null,
        "xColumns": null,
        "yColumns": null
       },
       "removedWidgets": [],
       "schema": [
        {
         "metadata": "{}",
         "name": "EmpId",
         "type": "\"string\""
        },
        {
         "metadata": "{}",
         "name": "EmpName",
         "type": "\"string\""
        },
        {
         "metadata": "{}",
         "name": "Job",
         "type": "\"string\""
        },
        {
         "metadata": "{}",
         "name": "HireDate",
         "type": "\"date\""
        },
        {
         "metadata": "{}",
         "name": "DeptId",
         "type": "\"long\""
        },
        {
         "metadata": "{}",
         "name": "Comm",
         "type": "\"long\""
        }
       ],
       "type": "table"
      }
     },
     "output_type": "display_data"
    }
   ],
   "source": [
    "%sql\n",
    "-- 인사정보 테이블\n",
    "select *\n",
    " from Emp;"
   ]
  },
  {
   "cell_type": "code",
   "execution_count": 0,
   "metadata": {
    "application/vnd.databricks.v1+cell": {
     "cellMetadata": {
      "byteLimit": 2048000,
      "implicitDf": true,
      "rowLimit": 10000
     },
     "inputWidgets": {},
     "nuid": "5b42602d-c0da-49c9-b64d-eeab8dea4944",
     "showTitle": false,
     "title": ""
    }
   },
   "outputs": [
    {
     "output_type": "display_data",
     "data": {
      "text/html": [
       "<style scoped>\n  .table-result-container {\n    max-height: 300px;\n    overflow: auto;\n  }\n  table, th, td {\n    border: 1px solid black;\n    border-collapse: collapse;\n  }\n  th, td {\n    padding: 5px;\n  }\n  th {\n    text-align: left;\n  }\n</style><div class='table-result-container'><table class='table-result'><thead style='background-color: white'><tr><th>DeptId</th><th>DeptName</th><th>Location</th></tr></thead><tbody><tr><td>10</td><td>Accounting</td><td>New York</td></tr><tr><td>20</td><td>Research</td><td>Dallas</td></tr><tr><td>30</td><td>Sales</td><td>Chicago</td></tr></tbody></table></div>"
      ]
     },
     "metadata": {
      "application/vnd.databricks.v1+output": {
       "addedWidgets": {},
       "aggData": [],
       "aggError": "",
       "aggOverflow": false,
       "aggSchema": [],
       "aggSeriesLimitReached": false,
       "aggType": "",
       "arguments": {},
       "columnCustomDisplayInfos": {},
       "data": [
        [
         10,
         "Accounting",
         "New York"
        ],
        [
         20,
         "Research",
         "Dallas"
        ],
        [
         30,
         "Sales",
         "Chicago"
        ]
       ],
       "datasetInfos": [],
       "dbfsResultPath": null,
       "isJsonSchema": true,
       "metadata": {},
       "overflow": false,
       "plotOptions": {
        "customPlotOptions": {},
        "displayType": "table",
        "pivotAggregation": null,
        "pivotColumns": null,
        "xColumns": null,
        "yColumns": null
       },
       "removedWidgets": [],
       "schema": [
        {
         "metadata": "{}",
         "name": "DeptId",
         "type": "\"long\""
        },
        {
         "metadata": "{}",
         "name": "DeptName",
         "type": "\"string\""
        },
        {
         "metadata": "{}",
         "name": "Location",
         "type": "\"string\""
        }
       ],
       "type": "table"
      }
     },
     "output_type": "display_data"
    }
   ],
   "source": [
    "%sql\n",
    "-- 부서정보 테이블\n",
    "select *\n",
    " from Dept;"
   ]
  },
  {
   "cell_type": "markdown",
   "metadata": {
    "application/vnd.databricks.v1+cell": {
     "cellMetadata": {},
     "inputWidgets": {},
     "nuid": "a8a29334-14f9-467a-ab72-c01ed751dff8",
     "showTitle": false,
     "title": ""
    }
   },
   "source": [
    "### Python & Databricks SQL 활용하여 데이터 생성 및 활용하기  \n",
    "지금부터는 Magic Command 활용하여 SQL로 테이블을 생성하고, Python으로 무작위 데이터를 생성하여 테이블에 적재해보겠습니다."
   ]
  },
  {
   "cell_type": "markdown",
   "metadata": {
    "application/vnd.databricks.v1+cell": {
     "cellMetadata": {},
     "inputWidgets": {},
     "nuid": "a3f415ee-a174-4d79-a7f3-d5cdbd2cafb2",
     "showTitle": false,
     "title": ""
    }
   },
   "source": [
    "#### 1. Table 생성  \n",
    "SQL로 테이블을 생성하기 위해 셀의 우측에서 사용언어를 SQL로 선택합니다.  \n",
    "이제 Create Table문으로 Project 테이블과 EmpDetail 테이블을 생성하겠습니다."
   ]
  },
  {
   "cell_type": "code",
   "execution_count": 0,
   "metadata": {
    "application/vnd.databricks.v1+cell": {
     "cellMetadata": {
      "byteLimit": 2048000,
      "implicitDf": true,
      "rowLimit": 10000
     },
     "inputWidgets": {},
     "nuid": "c9da6e32-fd37-4433-88e9-8742a049c076",
     "showTitle": false,
     "title": ""
    }
   },
   "outputs": [
    {
     "output_type": "display_data",
     "data": {
      "text/html": [
       "<style scoped>\n  .table-result-container {\n    max-height: 300px;\n    overflow: auto;\n  }\n  table, th, td {\n    border: 1px solid black;\n    border-collapse: collapse;\n  }\n  th, td {\n    padding: 5px;\n  }\n  th {\n    text-align: left;\n  }\n</style><div class='table-result-container'><table class='table-result'><thead style='background-color: white'><tr></tr></thead><tbody></tbody></table></div>"
      ]
     },
     "metadata": {
      "application/vnd.databricks.v1+output": {
       "addedWidgets": {},
       "aggData": [],
       "aggError": "",
       "aggOverflow": false,
       "aggSchema": [],
       "aggSeriesLimitReached": false,
       "aggType": "",
       "arguments": {},
       "columnCustomDisplayInfos": {},
       "data": [],
       "datasetInfos": [],
       "dbfsResultPath": null,
       "isJsonSchema": true,
       "metadata": {},
       "overflow": false,
       "plotOptions": {
        "customPlotOptions": {},
        "displayType": "table",
        "pivotAggregation": null,
        "pivotColumns": null,
        "xColumns": null,
        "yColumns": null
       },
       "removedWidgets": [],
       "schema": [],
       "type": "table"
      }
     },
     "output_type": "display_data"
    }
   ],
   "source": [
    "%sql\n",
    "\n",
    "-- 테이블 생성 \n",
    "create table if not exists Project(\n",
    "\tProjCode string,\n",
    "\tProjName string,\n",
    "\tCreatedWhen string,\n",
    "\tLastEditedWhen string,\n",
    "\tLastEditedBy string\n",
    ");\n",
    "\n",
    "create table if not exists EmpDetail(\n",
    "\t`사원번호` string,\n",
    "\t`사원명` string,\n",
    "\t`직무` string,\n",
    "\t`입사일` string,\n",
    "\t`입사일수` string,\n",
    "    `부서코드` string, \n",
    "    `부서명` string,\n",
    "    `부서위치` string,\n",
    "    `진행프로젝트수` int,\n",
    "    `누적상여금` int,\n",
    "    `최종상여금지급일` string,\n",
    "    `스케쥴최종수행일` string\n",
    ");"
   ]
  },
  {
   "cell_type": "markdown",
   "metadata": {
    "application/vnd.databricks.v1+cell": {
     "cellMetadata": {},
     "inputWidgets": {},
     "nuid": "c5b8e5c2-cb67-4d9f-a069-d12da1cdecf7",
     "showTitle": false,
     "title": ""
    }
   },
   "source": [
    "#### 2. 생성한 테이블에 무작위 데이터 적재  \n",
    "Project 테이블에 넣어줄 데이터를 파이썬을 사용하여 만들어보겠습니다.  \n",
    "데이터를 넣어주기 전, Project 테이블을 조회하여 데이터가 없음을 확인해보겠습니다."
   ]
  },
  {
   "cell_type": "code",
   "execution_count": 0,
   "metadata": {
    "application/vnd.databricks.v1+cell": {
     "cellMetadata": {
      "byteLimit": 2048000,
      "implicitDf": true,
      "rowLimit": 10000
     },
     "inputWidgets": {},
     "nuid": "3c4e8acb-9a1e-4583-b2df-c6b48a972704",
     "showTitle": false,
     "title": ""
    }
   },
   "outputs": [
    {
     "output_type": "display_data",
     "data": {
      "text/html": [
       "<style scoped>\n  .table-result-container {\n    max-height: 300px;\n    overflow: auto;\n  }\n  table, th, td {\n    border: 1px solid black;\n    border-collapse: collapse;\n  }\n  th, td {\n    padding: 5px;\n  }\n  th {\n    text-align: left;\n  }\n</style><div class='table-result-container'><table class='table-result'><thead style='background-color: white'><tr><th>cnt</th></tr></thead><tbody><tr><td>0</td></tr></tbody></table></div>"
      ]
     },
     "metadata": {
      "application/vnd.databricks.v1+output": {
       "addedWidgets": {},
       "aggData": [],
       "aggError": "",
       "aggOverflow": false,
       "aggSchema": [],
       "aggSeriesLimitReached": false,
       "aggType": "",
       "arguments": {},
       "columnCustomDisplayInfos": {},
       "data": [
        [
         0
        ]
       ],
       "datasetInfos": [],
       "dbfsResultPath": null,
       "isJsonSchema": true,
       "metadata": {},
       "overflow": false,
       "plotOptions": {
        "customPlotOptions": {},
        "displayType": "table",
        "pivotAggregation": null,
        "pivotColumns": null,
        "xColumns": null,
        "yColumns": null
       },
       "removedWidgets": [],
       "schema": [
        {
         "metadata": "{}",
         "name": "cnt",
         "type": "\"long\""
        }
       ],
       "type": "table"
      }
     },
     "output_type": "display_data"
    }
   ],
   "source": [
    "%sql\n",
    "select count(*) cnt\n",
    " from Project;"
   ]
  },
  {
   "cell_type": "markdown",
   "metadata": {
    "application/vnd.databricks.v1+cell": {
     "cellMetadata": {},
     "inputWidgets": {},
     "nuid": "2286eb4b-79e5-4b72-a09a-47a0a478bf5d",
     "showTitle": false,
     "title": ""
    }
   },
   "source": [
    "이제 Python의 Random 모듈 내 Sample 함수를 통해 무작위 데이터를 20건 생성하고,  \n",
    "실행할 쿼리문을 *query_all* 이라는 변수에 담아서 출력한 후, 이를 spark.sql을 통해 실행하겠습니다."
   ]
  },
  {
   "cell_type": "code",
   "execution_count": 0,
   "metadata": {
    "application/vnd.databricks.v1+cell": {
     "cellMetadata": {
      "byteLimit": 2048000,
      "rowLimit": 10000
     },
     "inputWidgets": {},
     "nuid": "a31c3a4c-3944-4504-b7f6-fad70b93f90f",
     "showTitle": false,
     "title": ""
    }
   },
   "outputs": [
    {
     "output_type": "stream",
     "name": "stdout",
     "output_type": "stream",
     "text": [
      "insert into Project values('76WDB5X','ZDQIA','2023-03-20','2023-03-20','admin7')\ninsert into Project values('0IOFA6P','KTLWH','2023-03-20','2023-03-20','admin4')\ninsert into Project values('DWKI04J','HZYLU','2023-03-20','2023-03-20','admin7')\ninsert into Project values('WL4C2BH','NDEYU','2023-03-20','2023-03-20','admin6')\ninsert into Project values('EJL1SVR','XOIBR','2023-03-20','2023-03-20','admin4')\ninsert into Project values('SXQO1AD','EKCTX','2023-03-20','2023-03-20','admin2')\ninsert into Project values('ITE5POX','XGPCE','2023-03-20','2023-03-20','admin0')\ninsert into Project values('XMUA65E','BPDEG','2023-03-20','2023-03-20','admin1')\ninsert into Project values('3MWN7A6','ZGOPD','2023-03-20','2023-03-20','admin4')\ninsert into Project values('Q7X3UCE','WCLQG','2023-03-20','2023-03-20','admin9')\ninsert into Project values('QIE6U14','MQXRD','2023-03-20','2023-03-20','admin7')\ninsert into Project values('W536SPM','NMUID','2023-03-20','2023-03-20','admin7')\ninsert into Project values('WD2781F','TSGOK','2023-03-20','2023-03-20','admin1')\ninsert into Project values('W03Q26J','FUHYT','2023-03-20','2023-03-20','admin5')\ninsert into Project values('S4CDJQ3','OWBSD','2023-03-20','2023-03-20','admin3')\ninsert into Project values('GN13CR6','WCXSR','2023-03-20','2023-03-20','admin6')\ninsert into Project values('WGD6OFN','NABQW','2023-03-20','2023-03-20','admin7')\ninsert into Project values('DS68EGU','ECWYP','2023-03-20','2023-03-20','admin8')\ninsert into Project values('MJS5IB8','WOCKX','2023-03-20','2023-03-20','admin8')\ninsert into Project values('KXLPOSZ','VRSOT','2023-03-20','2023-03-20','admin6')\n"
     ]
    }
   ],
   "source": [
    "#Project에 데이터 insert (총 20건, 약 50sec)\n",
    "import random\n",
    "from datetime import datetime\n",
    "\n",
    "smpl1 = ['A', 'B', 'C', 'D', 'E', 'F', 'G', 'H', 'I', 'J', 'K', 'L', 'M', 'N', 'O', 'P', 'Q', 'R', 'S', 'T', 'U', 'V', 'W', 'X', 'Y', 'Z','0','1','2','3','4','5','6','7','8','9']\n",
    "smpl2 = ['A', 'B', 'C', 'D', 'E', 'F', 'G', 'H', 'I', 'J', 'K', 'L', 'M', 'N', 'O', 'P', 'Q', 'R', 'S', 'T', 'U', 'V', 'W', 'X', 'Y', 'Z']\n",
    "smpl3 = ['0','1','2','3','4','5','6','7','8','9']\n",
    "\n",
    "i =1\n",
    "\n",
    "today = datetime.today().strftime('%Y-%m-%d')\n",
    "\n",
    "while i <= 20  :\n",
    "    smplCode1 = random.sample(smpl1,7)\n",
    "    projCode = ''.join(smplCode1)\n",
    "    \n",
    "    smplCode2 = random.sample(smpl2,5)\n",
    "    projName = ''.join(smplCode2)\n",
    "    \n",
    "    smplCode3 = random.sample(smpl3,1)\n",
    "    admin = \"admin\"+''.join(smplCode3)\n",
    "\n",
    "    query = \"'\"+projCode + \"','\"+projName+\"','\"+today+\"','\"+today+\"','\"+admin+\"'\"\n",
    "    #print(query)\n",
    "    query_all = \"insert into Project values(\"+ query+\")\"\n",
    "    print(query_all)\n",
    "    spark.sql(query_all)\n",
    "    i = i + 1"
   ]
  },
  {
   "cell_type": "markdown",
   "metadata": {
    "application/vnd.databricks.v1+cell": {
     "cellMetadata": {},
     "inputWidgets": {},
     "nuid": "29fcf99d-9f1c-4ce6-bb13-6d9521ba2c1a",
     "showTitle": false,
     "title": ""
    }
   },
   "source": [
    "데이터 적재가 완료되었다면, Project 테이블을 조회해보겠습니다."
   ]
  },
  {
   "cell_type": "code",
   "execution_count": 0,
   "metadata": {
    "application/vnd.databricks.v1+cell": {
     "cellMetadata": {
      "byteLimit": 2048000,
      "implicitDf": true,
      "rowLimit": 10000
     },
     "inputWidgets": {},
     "nuid": "67f10883-6fb1-4639-83c3-045067ba6353",
     "showTitle": false,
     "title": ""
    }
   },
   "outputs": [
    {
     "output_type": "display_data",
     "data": {
      "text/html": [
       "<style scoped>\n  .table-result-container {\n    max-height: 300px;\n    overflow: auto;\n  }\n  table, th, td {\n    border: 1px solid black;\n    border-collapse: collapse;\n  }\n  th, td {\n    padding: 5px;\n  }\n  th {\n    text-align: left;\n  }\n</style><div class='table-result-container'><table class='table-result'><thead style='background-color: white'><tr><th>ProjCode</th><th>ProjName</th><th>CreatedWhen</th><th>LastEditedWhen</th><th>LastEditedBy</th></tr></thead><tbody><tr><td>WD2781F</td><td>TSGOK</td><td>2023-03-20</td><td>2023-03-20</td><td>admin1</td></tr><tr><td>ITE5POX</td><td>XGPCE</td><td>2023-03-20</td><td>2023-03-20</td><td>admin0</td></tr><tr><td>Q7X3UCE</td><td>WCLQG</td><td>2023-03-20</td><td>2023-03-20</td><td>admin9</td></tr><tr><td>76WDB5X</td><td>ZDQIA</td><td>2023-03-20</td><td>2023-03-20</td><td>admin7</td></tr><tr><td>GN13CR6</td><td>WCXSR</td><td>2023-03-20</td><td>2023-03-20</td><td>admin6</td></tr><tr><td>W03Q26J</td><td>FUHYT</td><td>2023-03-20</td><td>2023-03-20</td><td>admin5</td></tr><tr><td>3MWN7A6</td><td>ZGOPD</td><td>2023-03-20</td><td>2023-03-20</td><td>admin4</td></tr><tr><td>MJS5IB8</td><td>WOCKX</td><td>2023-03-20</td><td>2023-03-20</td><td>admin8</td></tr><tr><td>DWKI04J</td><td>HZYLU</td><td>2023-03-20</td><td>2023-03-20</td><td>admin7</td></tr><tr><td>DS68EGU</td><td>ECWYP</td><td>2023-03-20</td><td>2023-03-20</td><td>admin8</td></tr><tr><td>EJL1SVR</td><td>XOIBR</td><td>2023-03-20</td><td>2023-03-20</td><td>admin4</td></tr><tr><td>QIE6U14</td><td>MQXRD</td><td>2023-03-20</td><td>2023-03-20</td><td>admin7</td></tr><tr><td>WL4C2BH</td><td>NDEYU</td><td>2023-03-20</td><td>2023-03-20</td><td>admin6</td></tr><tr><td>SXQO1AD</td><td>EKCTX</td><td>2023-03-20</td><td>2023-03-20</td><td>admin2</td></tr><tr><td>0IOFA6P</td><td>KTLWH</td><td>2023-03-20</td><td>2023-03-20</td><td>admin4</td></tr><tr><td>KXLPOSZ</td><td>VRSOT</td><td>2023-03-20</td><td>2023-03-20</td><td>admin6</td></tr><tr><td>XMUA65E</td><td>BPDEG</td><td>2023-03-20</td><td>2023-03-20</td><td>admin1</td></tr><tr><td>W536SPM</td><td>NMUID</td><td>2023-03-20</td><td>2023-03-20</td><td>admin7</td></tr><tr><td>WGD6OFN</td><td>NABQW</td><td>2023-03-20</td><td>2023-03-20</td><td>admin7</td></tr><tr><td>S4CDJQ3</td><td>OWBSD</td><td>2023-03-20</td><td>2023-03-20</td><td>admin3</td></tr></tbody></table></div>"
      ]
     },
     "metadata": {
      "application/vnd.databricks.v1+output": {
       "addedWidgets": {},
       "aggData": [],
       "aggError": "",
       "aggOverflow": false,
       "aggSchema": [],
       "aggSeriesLimitReached": false,
       "aggType": "",
       "arguments": {},
       "columnCustomDisplayInfos": {},
       "data": [
        [
         "WD2781F",
         "TSGOK",
         "2023-03-20",
         "2023-03-20",
         "admin1"
        ],
        [
         "ITE5POX",
         "XGPCE",
         "2023-03-20",
         "2023-03-20",
         "admin0"
        ],
        [
         "Q7X3UCE",
         "WCLQG",
         "2023-03-20",
         "2023-03-20",
         "admin9"
        ],
        [
         "76WDB5X",
         "ZDQIA",
         "2023-03-20",
         "2023-03-20",
         "admin7"
        ],
        [
         "GN13CR6",
         "WCXSR",
         "2023-03-20",
         "2023-03-20",
         "admin6"
        ],
        [
         "W03Q26J",
         "FUHYT",
         "2023-03-20",
         "2023-03-20",
         "admin5"
        ],
        [
         "3MWN7A6",
         "ZGOPD",
         "2023-03-20",
         "2023-03-20",
         "admin4"
        ],
        [
         "MJS5IB8",
         "WOCKX",
         "2023-03-20",
         "2023-03-20",
         "admin8"
        ],
        [
         "DWKI04J",
         "HZYLU",
         "2023-03-20",
         "2023-03-20",
         "admin7"
        ],
        [
         "DS68EGU",
         "ECWYP",
         "2023-03-20",
         "2023-03-20",
         "admin8"
        ],
        [
         "EJL1SVR",
         "XOIBR",
         "2023-03-20",
         "2023-03-20",
         "admin4"
        ],
        [
         "QIE6U14",
         "MQXRD",
         "2023-03-20",
         "2023-03-20",
         "admin7"
        ],
        [
         "WL4C2BH",
         "NDEYU",
         "2023-03-20",
         "2023-03-20",
         "admin6"
        ],
        [
         "SXQO1AD",
         "EKCTX",
         "2023-03-20",
         "2023-03-20",
         "admin2"
        ],
        [
         "0IOFA6P",
         "KTLWH",
         "2023-03-20",
         "2023-03-20",
         "admin4"
        ],
        [
         "KXLPOSZ",
         "VRSOT",
         "2023-03-20",
         "2023-03-20",
         "admin6"
        ],
        [
         "XMUA65E",
         "BPDEG",
         "2023-03-20",
         "2023-03-20",
         "admin1"
        ],
        [
         "W536SPM",
         "NMUID",
         "2023-03-20",
         "2023-03-20",
         "admin7"
        ],
        [
         "WGD6OFN",
         "NABQW",
         "2023-03-20",
         "2023-03-20",
         "admin7"
        ],
        [
         "S4CDJQ3",
         "OWBSD",
         "2023-03-20",
         "2023-03-20",
         "admin3"
        ]
       ],
       "datasetInfos": [],
       "dbfsResultPath": null,
       "isJsonSchema": true,
       "metadata": {},
       "overflow": false,
       "plotOptions": {
        "customPlotOptions": {},
        "displayType": "table",
        "pivotAggregation": null,
        "pivotColumns": null,
        "xColumns": null,
        "yColumns": null
       },
       "removedWidgets": [],
       "schema": [
        {
         "metadata": "{}",
         "name": "ProjCode",
         "type": "\"string\""
        },
        {
         "metadata": "{}",
         "name": "ProjName",
         "type": "\"string\""
        },
        {
         "metadata": "{}",
         "name": "CreatedWhen",
         "type": "\"string\""
        },
        {
         "metadata": "{}",
         "name": "LastEditedWhen",
         "type": "\"string\""
        },
        {
         "metadata": "{}",
         "name": "LastEditedBy",
         "type": "\"string\""
        }
       ],
       "type": "table"
      }
     },
     "output_type": "display_data"
    }
   ],
   "source": [
    "%sql\n",
    "select *\n",
    " from Project;"
   ]
  },
  {
   "cell_type": "markdown",
   "metadata": {
    "application/vnd.databricks.v1+cell": {
     "cellMetadata": {},
     "inputWidgets": {},
     "nuid": "97fcba8e-fa5d-4b6e-8976-503ccd66aa79",
     "showTitle": false,
     "title": ""
    }
   },
   "source": [
    "#### 3. Project, Emp, Dept 데이터를 통해 EmpDetail에 데이터 적재(Mart Table)  \n",
    "위의 과정들을 통해서 Project, Emp, Dept 총 3개의 소스 테이블이 준비되었습니다.  \n",
    "이 3개의 테이블에서 사원별로 진행중인 프로젝트 수를 집계하여 EmpDetail에 적재해보겠습니다."
   ]
  },
  {
   "cell_type": "markdown",
   "metadata": {
    "application/vnd.databricks.v1+cell": {
     "cellMetadata": {},
     "inputWidgets": {},
     "nuid": "d120053c-d406-448a-9ff2-23f9bd32fe5d",
     "showTitle": false,
     "title": ""
    }
   },
   "source": [
    "우선  EmpDetail 테이블을 조회하여 데이터가 없음을 확인해보겠습니다."
   ]
  },
  {
   "cell_type": "code",
   "execution_count": 0,
   "metadata": {
    "application/vnd.databricks.v1+cell": {
     "cellMetadata": {
      "byteLimit": 2048000,
      "implicitDf": true,
      "rowLimit": 10000
     },
     "inputWidgets": {},
     "nuid": "a40ca4db-e2a4-4bb8-aaa0-b097a2d2cfe3",
     "showTitle": false,
     "title": ""
    }
   },
   "outputs": [
    {
     "output_type": "display_data",
     "data": {
      "text/html": [
       "<style scoped>\n  .table-result-container {\n    max-height: 300px;\n    overflow: auto;\n  }\n  table, th, td {\n    border: 1px solid black;\n    border-collapse: collapse;\n  }\n  th, td {\n    padding: 5px;\n  }\n  th {\n    text-align: left;\n  }\n</style><div class='table-result-container'><table class='table-result'><thead style='background-color: white'><tr><th>cnt</th></tr></thead><tbody><tr><td>0</td></tr></tbody></table></div>"
      ]
     },
     "metadata": {
      "application/vnd.databricks.v1+output": {
       "addedWidgets": {},
       "aggData": [],
       "aggError": "",
       "aggOverflow": false,
       "aggSchema": [],
       "aggSeriesLimitReached": false,
       "aggType": "",
       "arguments": {},
       "columnCustomDisplayInfos": {},
       "data": [
        [
         0
        ]
       ],
       "datasetInfos": [],
       "dbfsResultPath": null,
       "isJsonSchema": true,
       "metadata": {},
       "overflow": false,
       "plotOptions": {
        "customPlotOptions": {},
        "displayType": "table",
        "pivotAggregation": null,
        "pivotColumns": null,
        "xColumns": null,
        "yColumns": null
       },
       "removedWidgets": [],
       "schema": [
        {
         "metadata": "{}",
         "name": "cnt",
         "type": "\"long\""
        }
       ],
       "type": "table"
      }
     },
     "output_type": "display_data"
    }
   ],
   "source": [
    "%sql\n",
    "select count(*) cnt\n",
    " from EmpDetail;"
   ]
  },
  {
   "cell_type": "markdown",
   "metadata": {
    "application/vnd.databricks.v1+cell": {
     "cellMetadata": {},
     "inputWidgets": {},
     "nuid": "a5d3a413-bd60-4899-a583-b37407ab3cff",
     "showTitle": false,
     "title": ""
    }
   },
   "source": [
    "Project, Emp, Dept 테이블을 Join하여 EmpDetail에 넣어줄 데이터를 조회해보겠습니다."
   ]
  },
  {
   "cell_type": "code",
   "execution_count": 0,
   "metadata": {
    "application/vnd.databricks.v1+cell": {
     "cellMetadata": {
      "byteLimit": 2048000,
      "implicitDf": true,
      "rowLimit": 10000
     },
     "inputWidgets": {},
     "nuid": "6bf68f31-85f4-4100-9efe-6a9962c2d188",
     "showTitle": false,
     "title": ""
    }
   },
   "outputs": [
    {
     "output_type": "display_data",
     "data": {
      "text/html": [
       "<style scoped>\n  .table-result-container {\n    max-height: 300px;\n    overflow: auto;\n  }\n  table, th, td {\n    border: 1px solid black;\n    border-collapse: collapse;\n  }\n  th, td {\n    padding: 5px;\n  }\n  th {\n    text-align: left;\n  }\n</style><div class='table-result-container'><table class='table-result'><thead style='background-color: white'><tr><th>사원번호</th><th>사원명</th><th>직무</th><th>입사일</th><th>입사일수</th><th>부서코드</th><th>부서명</th><th>부서위치</th><th>진행 프로젝트 수</th><th>누적상여금</th><th>최종상여금지급일</th><th>스케쥴최종수행일</th></tr></thead><tbody><tr><td>admin0</td><td>Helen</td><td>Analyst</td><td>2015-07-01</td><td>2819</td><td>10</td><td>Accounting</td><td>New York</td><td>1</td><td>0</td><td>9999-12-31</td><td>2023-03-20</td></tr><tr><td>admin1</td><td>Adams</td><td>Manager</td><td>2015-03-02</td><td>2940</td><td>20</td><td>Research</td><td>Dallas</td><td>2</td><td>0</td><td>9999-12-31</td><td>2023-03-20</td></tr><tr><td>admin2</td><td>Scott</td><td>Manager</td><td>2015-07-01</td><td>2819</td><td>20</td><td>Research</td><td>Dallas</td><td>1</td><td>0</td><td>9999-12-31</td><td>2023-03-20</td></tr><tr><td>admin3</td><td>Smith</td><td>Salesman</td><td>2015-03-02</td><td>2940</td><td>30</td><td>Sales</td><td>Chicago</td><td>1</td><td>0</td><td>9999-12-31</td><td>2023-03-20</td></tr><tr><td>admin4</td><td>Allen</td><td>Salesman</td><td>2015-07-01</td><td>2819</td><td>30</td><td>Sales</td><td>Chicago</td><td>3</td><td>0</td><td>9999-12-31</td><td>2023-03-20</td></tr><tr><td>admin5</td><td>James</td><td>Analyst</td><td>2016-03-02</td><td>2574</td><td>10</td><td>Accounting</td><td>New York</td><td>1</td><td>0</td><td>9999-12-31</td><td>2023-03-20</td></tr><tr><td>admin6</td><td>Blake</td><td>Analyst</td><td>2016-03-02</td><td>2574</td><td>10</td><td>Accounting</td><td>New York</td><td>3</td><td>0</td><td>9999-12-31</td><td>2023-03-20</td></tr><tr><td>admin7</td><td>Martin</td><td>Salesman</td><td>2018-03-02</td><td>1844</td><td>30</td><td>Sales</td><td>Chicago</td><td>5</td><td>0</td><td>9999-12-31</td><td>2023-03-20</td></tr><tr><td>admin8</td><td>Miller</td><td>Analyst</td><td>2018-03-02</td><td>1844</td><td>10</td><td>Accounting</td><td>New York</td><td>2</td><td>0</td><td>9999-12-31</td><td>2023-03-20</td></tr><tr><td>admin9</td><td>Jones</td><td>Manager</td><td>2015-03-02</td><td>2940</td><td>20</td><td>Research</td><td>Dallas</td><td>1</td><td>0</td><td>9999-12-31</td><td>2023-03-20</td></tr></tbody></table></div>"
      ]
     },
     "metadata": {
      "application/vnd.databricks.v1+output": {
       "addedWidgets": {},
       "aggData": [],
       "aggError": "",
       "aggOverflow": false,
       "aggSchema": [],
       "aggSeriesLimitReached": false,
       "aggType": "",
       "arguments": {},
       "columnCustomDisplayInfos": {},
       "data": [
        [
         "admin0",
         "Helen",
         "Analyst",
         "2015-07-01",
         2819,
         10,
         "Accounting",
         "New York",
         1,
         0,
         "9999-12-31",
         "2023-03-20"
        ],
        [
         "admin1",
         "Adams",
         "Manager",
         "2015-03-02",
         2940,
         20,
         "Research",
         "Dallas",
         2,
         0,
         "9999-12-31",
         "2023-03-20"
        ],
        [
         "admin2",
         "Scott",
         "Manager",
         "2015-07-01",
         2819,
         20,
         "Research",
         "Dallas",
         1,
         0,
         "9999-12-31",
         "2023-03-20"
        ],
        [
         "admin3",
         "Smith",
         "Salesman",
         "2015-03-02",
         2940,
         30,
         "Sales",
         "Chicago",
         1,
         0,
         "9999-12-31",
         "2023-03-20"
        ],
        [
         "admin4",
         "Allen",
         "Salesman",
         "2015-07-01",
         2819,
         30,
         "Sales",
         "Chicago",
         3,
         0,
         "9999-12-31",
         "2023-03-20"
        ],
        [
         "admin5",
         "James",
         "Analyst",
         "2016-03-02",
         2574,
         10,
         "Accounting",
         "New York",
         1,
         0,
         "9999-12-31",
         "2023-03-20"
        ],
        [
         "admin6",
         "Blake",
         "Analyst",
         "2016-03-02",
         2574,
         10,
         "Accounting",
         "New York",
         3,
         0,
         "9999-12-31",
         "2023-03-20"
        ],
        [
         "admin7",
         "Martin",
         "Salesman",
         "2018-03-02",
         1844,
         30,
         "Sales",
         "Chicago",
         5,
         0,
         "9999-12-31",
         "2023-03-20"
        ],
        [
         "admin8",
         "Miller",
         "Analyst",
         "2018-03-02",
         1844,
         10,
         "Accounting",
         "New York",
         2,
         0,
         "9999-12-31",
         "2023-03-20"
        ],
        [
         "admin9",
         "Jones",
         "Manager",
         "2015-03-02",
         2940,
         20,
         "Research",
         "Dallas",
         1,
         0,
         "9999-12-31",
         "2023-03-20"
        ]
       ],
       "datasetInfos": [],
       "dbfsResultPath": null,
       "isJsonSchema": true,
       "metadata": {},
       "overflow": false,
       "plotOptions": {
        "customPlotOptions": {},
        "displayType": "table",
        "pivotAggregation": null,
        "pivotColumns": null,
        "xColumns": null,
        "yColumns": null
       },
       "removedWidgets": [],
       "schema": [
        {
         "metadata": "{}",
         "name": "사원번호",
         "type": "\"string\""
        },
        {
         "metadata": "{}",
         "name": "사원명",
         "type": "\"string\""
        },
        {
         "metadata": "{}",
         "name": "직무",
         "type": "\"string\""
        },
        {
         "metadata": "{}",
         "name": "입사일",
         "type": "\"date\""
        },
        {
         "metadata": "{}",
         "name": "입사일수",
         "type": "\"integer\""
        },
        {
         "metadata": "{}",
         "name": "부서코드",
         "type": "\"long\""
        },
        {
         "metadata": "{}",
         "name": "부서명",
         "type": "\"string\""
        },
        {
         "metadata": "{}",
         "name": "부서위치",
         "type": "\"string\""
        },
        {
         "metadata": "{}",
         "name": "진행 프로젝트 수",
         "type": "\"long\""
        },
        {
         "metadata": "{}",
         "name": "누적상여금",
         "type": "\"long\""
        },
        {
         "metadata": "{}",
         "name": "최종상여금지급일",
         "type": "\"string\""
        },
        {
         "metadata": "{}",
         "name": "스케쥴최종수행일",
         "type": "\"date\""
        }
       ],
       "type": "table"
      }
     },
     "output_type": "display_data"
    }
   ],
   "source": [
    "%sql\n",
    "select  e.EmpId `사원번호`\n",
    "      , max(e.EmpName) `사원명`\n",
    "      , max(e.Job) `직무`\n",
    "      , max(e.HireDate) `입사일`\n",
    "      , max(datediff(current_date, e.HireDate)) `입사일수` \n",
    "      , max(d.DeptId) `부서코드`\n",
    "      , max(d.DeptName) `부서명`\n",
    "      , max(d.Location) `부서위치`\n",
    "      , count(p.ProjCode) `진행 프로젝트 수` \n",
    "      , max(e.comm) `누적상여금`\n",
    "      , '9999-12-31' `최종상여금지급일`\n",
    "      , current_date `스케쥴최종수행일`\n",
    "from    emp e \n",
    "inner join dept d on e.DeptId = d.DeptId\n",
    "inner join project p on e.empid = p.LastEditedBy\n",
    "group by e.EmpId\n",
    "order by e.EmpId;"
   ]
  },
  {
   "cell_type": "markdown",
   "metadata": {
    "application/vnd.databricks.v1+cell": {
     "cellMetadata": {},
     "inputWidgets": {},
     "nuid": "b003d829-8284-4938-a4c7-5df9b3b2e5c7",
     "showTitle": false,
     "title": ""
    }
   },
   "source": [
    "Insert - Select 문을 통해 EmpDetail에 데이터를 적재하겠습니다.  \n",
    "이 작업은 Schedule 기능을 사용하여 해보겠습니다."
   ]
  }
 ],
 "metadata": {
  "application/vnd.databricks.v1+notebook": {
   "dashboards": [],
   "language": "python",
   "notebookMetadata": {
    "mostRecentlyExecutedCommandWithImplicitDF": {
     "commandId": 3536043252905067,
     "dataframes": [
      "_sqldf"
     ]
    },
    "pythonIndentUnit": 4
   },
   "notebookName": "Demo_workshop1",
   "notebookOrigID": 3536043252905035,
   "widgets": {}
  }
 },
 "nbformat": 4,
 "nbformat_minor": 0
}
